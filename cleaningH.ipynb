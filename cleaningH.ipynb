{
 "cells": [
  {
   "cell_type": "code",
   "execution_count": 200,
   "id": "66962977-c3c7-4372-a989-d1c6af3e5b21",
   "metadata": {},
   "outputs": [],
   "source": [
    "import pandas as pd\n",
    "import warnings\n",
    "import numpy as np\n",
    "import matplotlib.pyplot as plt\n",
    "warnings.filterwarnings(\"ignore\")"
   ]
  },
  {
   "cell_type": "code",
   "execution_count": 178,
   "id": "4c238c7a",
   "metadata": {},
   "outputs": [],
   "source": [
    "hospital_data = pd.read_excel('Hospital_dataset.xlsx', sheet_name='Hospital ER')"
   ]
  },
  {
   "cell_type": "code",
   "execution_count": 179,
   "id": "18d489df",
   "metadata": {},
   "outputs": [],
   "source": [
    "hospital_data_copy = hospital_data.copy()"
   ]
  },
  {
   "cell_type": "code",
   "execution_count": 180,
   "id": "c96ffa56",
   "metadata": {},
   "outputs": [
    {
     "data": {
      "text/html": [
       "<div>\n",
       "<style scoped>\n",
       "    .dataframe tbody tr th:only-of-type {\n",
       "        vertical-align: middle;\n",
       "    }\n",
       "\n",
       "    .dataframe tbody tr th {\n",
       "        vertical-align: top;\n",
       "    }\n",
       "\n",
       "    .dataframe thead th {\n",
       "        text-align: right;\n",
       "    }\n",
       "</style>\n",
       "<table border=\"1\" class=\"dataframe\">\n",
       "  <thead>\n",
       "    <tr style=\"text-align: right;\">\n",
       "      <th></th>\n",
       "      <th>date</th>\n",
       "      <th>patient_id</th>\n",
       "      <th>patient_gender</th>\n",
       "      <th>patient_age</th>\n",
       "      <th>patient_sat_score</th>\n",
       "      <th>patient_first_inital</th>\n",
       "      <th>patient_last_name</th>\n",
       "      <th>Full_Name</th>\n",
       "      <th>Doctor</th>\n",
       "      <th>patient_admin_flag</th>\n",
       "      <th>patient_waittime</th>\n",
       "      <th>department_referral</th>\n",
       "      <th>revenue</th>\n",
       "    </tr>\n",
       "  </thead>\n",
       "  <tbody>\n",
       "    <tr>\n",
       "      <th>0</th>\n",
       "      <td>2020-03-20 08:47:00</td>\n",
       "      <td>145-39-5406</td>\n",
       "      <td>Male</td>\n",
       "      <td>69</td>\n",
       "      <td>10.0</td>\n",
       "      <td>H</td>\n",
       "      <td>Glasspool</td>\n",
       "      <td>HGlasspool</td>\n",
       "      <td>Dr. Ben Carson</td>\n",
       "      <td>False</td>\n",
       "      <td>39</td>\n",
       "      <td>NaN</td>\n",
       "      <td>260</td>\n",
       "    </tr>\n",
       "    <tr>\n",
       "      <th>1</th>\n",
       "      <td>2020-06-15 11:29:00</td>\n",
       "      <td>316-34-3057</td>\n",
       "      <td>Male</td>\n",
       "      <td>4</td>\n",
       "      <td>NaN</td>\n",
       "      <td>X</td>\n",
       "      <td>Methuen</td>\n",
       "      <td>XMethuen</td>\n",
       "      <td>Dr. Mohamed Oz</td>\n",
       "      <td>True</td>\n",
       "      <td>27</td>\n",
       "      <td>NaN</td>\n",
       "      <td>275</td>\n",
       "    </tr>\n",
       "    <tr>\n",
       "      <th>2</th>\n",
       "      <td>2020-06-20 09:13:00</td>\n",
       "      <td>897-46-3852</td>\n",
       "      <td>Female</td>\n",
       "      <td>56</td>\n",
       "      <td>9.0</td>\n",
       "      <td>P</td>\n",
       "      <td>Schubuser</td>\n",
       "      <td>PSchubuser</td>\n",
       "      <td>Dr. Patricia Bath</td>\n",
       "      <td>True</td>\n",
       "      <td>55</td>\n",
       "      <td>General Practice</td>\n",
       "      <td>260</td>\n",
       "    </tr>\n",
       "    <tr>\n",
       "      <th>3</th>\n",
       "      <td>2020-02-04 22:34:00</td>\n",
       "      <td>358-31-9711</td>\n",
       "      <td>Female</td>\n",
       "      <td>24</td>\n",
       "      <td>8.0</td>\n",
       "      <td>U</td>\n",
       "      <td>Titcombe</td>\n",
       "      <td>UTitcombe</td>\n",
       "      <td>Dr. Jennifer Doudna</td>\n",
       "      <td>True</td>\n",
       "      <td>31</td>\n",
       "      <td>General Practice</td>\n",
       "      <td>460</td>\n",
       "    </tr>\n",
       "    <tr>\n",
       "      <th>4</th>\n",
       "      <td>2020-09-04 17:48:00</td>\n",
       "      <td>289-26-0537</td>\n",
       "      <td>Male</td>\n",
       "      <td>5</td>\n",
       "      <td>NaN</td>\n",
       "      <td>Y</td>\n",
       "      <td>Gionettitti</td>\n",
       "      <td>YGionettitti</td>\n",
       "      <td>Dr. Joycelyn Elders</td>\n",
       "      <td>False</td>\n",
       "      <td>10</td>\n",
       "      <td>Orthopedics</td>\n",
       "      <td>275</td>\n",
       "    </tr>\n",
       "    <tr>\n",
       "      <th>5</th>\n",
       "      <td>2019-04-20 00:13:00</td>\n",
       "      <td>255-51-2877</td>\n",
       "      <td>Male</td>\n",
       "      <td>58</td>\n",
       "      <td>NaN</td>\n",
       "      <td>H</td>\n",
       "      <td>Buff</td>\n",
       "      <td>HBuff</td>\n",
       "      <td>Dr. Paul Farmer</td>\n",
       "      <td>False</td>\n",
       "      <td>59</td>\n",
       "      <td>NaN</td>\n",
       "      <td>260</td>\n",
       "    </tr>\n",
       "    <tr>\n",
       "      <th>6</th>\n",
       "      <td>2019-08-23 08:26:00</td>\n",
       "      <td>465-97-0990</td>\n",
       "      <td>Female</td>\n",
       "      <td>68</td>\n",
       "      <td>NaN</td>\n",
       "      <td>F</td>\n",
       "      <td>Perrat</td>\n",
       "      <td>FPerrat</td>\n",
       "      <td>Dr. Eric Topol</td>\n",
       "      <td>True</td>\n",
       "      <td>43</td>\n",
       "      <td>NaN</td>\n",
       "      <td>260</td>\n",
       "    </tr>\n",
       "    <tr>\n",
       "      <th>7</th>\n",
       "      <td>2019-07-29 16:57:00</td>\n",
       "      <td>157-31-7520</td>\n",
       "      <td>Female</td>\n",
       "      <td>47</td>\n",
       "      <td>NaN</td>\n",
       "      <td>K</td>\n",
       "      <td>Gwillim</td>\n",
       "      <td>KGwillim</td>\n",
       "      <td>Dr. Lisa Sanders</td>\n",
       "      <td>True</td>\n",
       "      <td>23</td>\n",
       "      <td>NaN</td>\n",
       "      <td>460</td>\n",
       "    </tr>\n",
       "    <tr>\n",
       "      <th>8</th>\n",
       "      <td>2020-02-19 06:54:00</td>\n",
       "      <td>432-34-5614</td>\n",
       "      <td>Female</td>\n",
       "      <td>79</td>\n",
       "      <td>1.0</td>\n",
       "      <td>E</td>\n",
       "      <td>Dewhirst</td>\n",
       "      <td>EDewhirst</td>\n",
       "      <td>Dr. Francis Collins</td>\n",
       "      <td>False</td>\n",
       "      <td>42</td>\n",
       "      <td>NaN</td>\n",
       "      <td>260</td>\n",
       "    </tr>\n",
       "    <tr>\n",
       "      <th>9</th>\n",
       "      <td>2020-10-11 05:25:00</td>\n",
       "      <td>609-17-8678</td>\n",
       "      <td>Male</td>\n",
       "      <td>62</td>\n",
       "      <td>NaN</td>\n",
       "      <td>M</td>\n",
       "      <td>Crebo</td>\n",
       "      <td>MCrebo</td>\n",
       "      <td>Dr. Joycelyn Elders</td>\n",
       "      <td>False</td>\n",
       "      <td>51</td>\n",
       "      <td>NaN</td>\n",
       "      <td>260</td>\n",
       "    </tr>\n",
       "  </tbody>\n",
       "</table>\n",
       "</div>"
      ],
      "text/plain": [
       "                 date   patient_id patient_gender  patient_age  \\\n",
       "0 2020-03-20 08:47:00  145-39-5406           Male           69   \n",
       "1 2020-06-15 11:29:00  316-34-3057           Male            4   \n",
       "2 2020-06-20 09:13:00  897-46-3852         Female           56   \n",
       "3 2020-02-04 22:34:00  358-31-9711         Female           24   \n",
       "4 2020-09-04 17:48:00  289-26-0537           Male            5   \n",
       "5 2019-04-20 00:13:00  255-51-2877           Male           58   \n",
       "6 2019-08-23 08:26:00  465-97-0990         Female           68   \n",
       "7 2019-07-29 16:57:00  157-31-7520         Female           47   \n",
       "8 2020-02-19 06:54:00  432-34-5614         Female           79   \n",
       "9 2020-10-11 05:25:00  609-17-8678           Male           62   \n",
       "\n",
       "   patient_sat_score patient_first_inital patient_last_name     Full_Name  \\\n",
       "0               10.0                    H         Glasspool    HGlasspool   \n",
       "1                NaN                    X           Methuen      XMethuen   \n",
       "2                9.0                    P         Schubuser    PSchubuser   \n",
       "3                8.0                    U          Titcombe     UTitcombe   \n",
       "4                NaN                    Y       Gionettitti  YGionettitti   \n",
       "5                NaN                    H              Buff         HBuff   \n",
       "6                NaN                    F            Perrat       FPerrat   \n",
       "7                NaN                    K           Gwillim      KGwillim   \n",
       "8                1.0                    E          Dewhirst     EDewhirst   \n",
       "9                NaN                    M             Crebo        MCrebo   \n",
       "\n",
       "                Doctor  patient_admin_flag  patient_waittime  \\\n",
       "0       Dr. Ben Carson               False                39   \n",
       "1       Dr. Mohamed Oz                True                27   \n",
       "2    Dr. Patricia Bath                True                55   \n",
       "3  Dr. Jennifer Doudna                True                31   \n",
       "4  Dr. Joycelyn Elders               False                10   \n",
       "5      Dr. Paul Farmer               False                59   \n",
       "6      Dr. Eric Topol                 True                43   \n",
       "7     Dr. Lisa Sanders                True                23   \n",
       "8  Dr. Francis Collins               False                42   \n",
       "9  Dr. Joycelyn Elders               False                51   \n",
       "\n",
       "  department_referral  revenue  \n",
       "0                 NaN      260  \n",
       "1                 NaN      275  \n",
       "2    General Practice      260  \n",
       "3    General Practice      460  \n",
       "4         Orthopedics      275  \n",
       "5                 NaN      260  \n",
       "6                 NaN      260  \n",
       "7                 NaN      460  \n",
       "8                 NaN      260  \n",
       "9                 NaN      260  "
      ]
     },
     "execution_count": 180,
     "metadata": {},
     "output_type": "execute_result"
    }
   ],
   "source": [
    "hospital_data_copy.head(10)"
   ]
  },
  {
   "cell_type": "code",
   "execution_count": 181,
   "id": "85463ff0",
   "metadata": {},
   "outputs": [],
   "source": [
    "hospital_data_copy['patient_gender'] = hospital_data_copy['patient_gender'].astype('category')\n",
    "hospital_data_copy['patient_first_inital'] = hospital_data_copy['patient_first_inital'].astype('category')\n",
    "hospital_data_copy['Doctor'] = hospital_data_copy['Doctor'].astype('category')\n",
    "hospital_data_copy['department_referral'] = hospital_data_copy['department_referral'].astype('category')"
   ]
  },
  {
   "cell_type": "code",
   "execution_count": null,
   "id": "62b55dab",
   "metadata": {},
   "outputs": [
    {
     "data": {
      "text/plain": [
       "0          H.Glasspool\n",
       "1            X.Methuen\n",
       "2          P.Schubuser\n",
       "3           U.Titcombe\n",
       "4        Y.Gionettitti\n",
       "             ...      \n",
       "9212           A.Crich\n",
       "9213           A.Gerbl\n",
       "9214          J.Dowall\n",
       "9215          W.Rustan\n",
       "9216    H.Hickeringill\n",
       "Name: Full_Name, Length: 9217, dtype: object"
      ]
     },
     "execution_count": 182,
     "metadata": {},
     "output_type": "execute_result"
    }
   ],
   "source": [
    "hospital_data_copy['Full_Name'] = hospital_data_copy['Full_Name'].str.slice(0,1) +\".\"+ hospital_data_copy['Full_Name'].str.slice(1,)"
   ]
  },
  {
   "cell_type": "code",
   "execution_count": 183,
   "id": "8843268e",
   "metadata": {},
   "outputs": [],
   "source": [
    "hospital_data_copy['patient_sat_score'].fillna(hospital_data_copy['patient_sat_score'].median(), inplace=True)"
   ]
  },
  {
   "cell_type": "code",
   "execution_count": 197,
   "id": "2e86e681",
   "metadata": {},
   "outputs": [],
   "source": [
    "labels = ['Child', 'Teen', 'Young Adult', 'Adult', 'Senior']\n",
    "bins = [0, 13, 20, 36, 60, np.inf]\n",
    "hospital_data_copy['patient_category'] = pd.cut(hospital_data_copy['patient_age'], bins=bins,labels=labels,)"
   ]
  },
  {
   "cell_type": "code",
   "execution_count": 205,
   "id": "1060f05b",
   "metadata": {},
   "outputs": [
    {
     "data": {
      "text/plain": [
       "Doctor             patient_category\n",
       "Dr. Anthony Fauci  Adult               165\n",
       "                   Young Adult         113\n",
       "                   Senior              106\n",
       "                   Child                78\n",
       "                   Teen                 41\n",
       "                                      ... \n",
       "Dr. Sanjay Gupta   Adult               167\n",
       "                   Senior              156\n",
       "                   Young Adult         132\n",
       "                   Child               112\n",
       "                   Teen                 54\n",
       "Name: count, Length: 65, dtype: int64"
      ]
     },
     "execution_count": 205,
     "metadata": {},
     "output_type": "execute_result"
    }
   ],
   "source": [
    "hospital_data_copy.groupby(\"Doctor\")['patient_category'].value_counts()"
   ]
  },
  {
   "cell_type": "code",
   "execution_count": 192,
   "id": "b6265675",
   "metadata": {},
   "outputs": [],
   "source": [
    "from imputing_method import imputer"
   ]
  },
  {
   "cell_type": "code",
   "execution_count": 185,
   "id": "a25c2dc9",
   "metadata": {},
   "outputs": [],
   "source": [
    "grouped_by_doc = hospital_data_copy.groupby('Doctor')"
   ]
  },
  {
   "cell_type": "code",
   "execution_count": 186,
   "id": "90a579b2",
   "metadata": {},
   "outputs": [],
   "source": [
    "hospital_data_copy['department_referral'] = hospital_data_copy['department_referral'] = hospital_data_copy.apply(\n",
    "    lambda row: imputer(row, grouped_by_doc) if pd.isna(row['department_referral']) else row['department_referral'],\n",
    "    axis=1\n",
    ")"
   ]
  },
  {
   "cell_type": "code",
   "execution_count": 187,
   "id": "f66ce2f0",
   "metadata": {},
   "outputs": [
    {
     "data": {
      "text/plain": [
       "department_referral\n",
       "General Practice    1972\n",
       "Renal               1574\n",
       "Gastroenterology    1361\n",
       "Orthopedics         1275\n",
       "Physiotherapy       1242\n",
       "Neurology           1116\n",
       "Cardiology           677\n",
       "Name: count, dtype: int64"
      ]
     },
     "execution_count": 187,
     "metadata": {},
     "output_type": "execute_result"
    }
   ],
   "source": [
    "hospital_data_copy['department_referral'].value_counts()"
   ]
  },
  {
   "cell_type": "code",
   "execution_count": 188,
   "id": "07873881",
   "metadata": {},
   "outputs": [
    {
     "name": "stdout",
     "output_type": "stream",
     "text": [
      "department_referral\n",
      "General Practice    1840\n",
      "Orthopedics          995\n",
      "Physiotherapy        276\n",
      "Cardiology           248\n",
      "Neurology            193\n",
      "Gastroenterology     178\n",
      "Renal                 86\n",
      "Name: count, dtype: int64 \n",
      " 5401\n"
     ]
    }
   ],
   "source": [
    "print(hospital_data['department_referral'].value_counts(),\"\\n\", hospital_data['department_referral'].isna().sum())"
   ]
  },
  {
   "cell_type": "code",
   "execution_count": 189,
   "id": "794727b4",
   "metadata": {},
   "outputs": [
    {
     "data": {
      "text/plain": [
       "date                    0\n",
       "patient_id              0\n",
       "patient_gender          0\n",
       "patient_age             0\n",
       "patient_sat_score       0\n",
       "patient_first_inital    0\n",
       "patient_last_name       0\n",
       "Full_Name               0\n",
       "Doctor                  0\n",
       "patient_admin_flag      0\n",
       "patient_waittime        0\n",
       "department_referral     0\n",
       "revenue                 0\n",
       "dtype: int64"
      ]
     },
     "execution_count": 189,
     "metadata": {},
     "output_type": "execute_result"
    }
   ],
   "source": [
    "hospital_data_copy.isna().sum()"
   ]
  }
 ],
 "metadata": {
  "kernelspec": {
   "display_name": "base",
   "language": "python",
   "name": "python3"
  },
  "language_info": {
   "codemirror_mode": {
    "name": "ipython",
    "version": 3
   },
   "file_extension": ".py",
   "mimetype": "text/x-python",
   "name": "python",
   "nbconvert_exporter": "python",
   "pygments_lexer": "ipython3",
   "version": "3.12.4"
  }
 },
 "nbformat": 4,
 "nbformat_minor": 5
}
